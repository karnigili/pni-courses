{
 "cells": [
  {
   "cell_type": "code",
   "execution_count": 7,
   "metadata": {},
   "outputs": [],
   "source": [
    "import matplotlib\n",
    "import seaborn as sns\n",
    "import numpy as np\n",
    "import matplotlib.pyplot as plt\n",
    "import scipy as sp\n",
    "import pyabf\n",
    "import pandas as pd\n",
    "from scipy.signal import medfilt\n",
    "from scipy.signal import find_peaks\n",
    "from scipy.signal import find_peaks_cwt\n",
    "from sklearn.cluster import KMeans\n",
    "from sklearn import metrics\n",
    "from glob import glob"
   ]
  },
  {
   "cell_type": "code",
   "execution_count": 8,
   "metadata": {},
   "outputs": [],
   "source": [
    "def extract_paired(data_path):\n",
    "    data_tmp = pyabf.ABF(data_path)\n",
    "    \n",
    "    #nerve\n",
    "    data_tmp.setSweep(sweepNumber=0, channel=0) \n",
    "    nerve_v = data_tmp.sweepY\n",
    "    nerve_label = data_tmp.sweepLabelY\n",
    "\n",
    "    times = data_tmp.sweepX\n",
    "\n",
    "    # muscle\n",
    "    data_tmp.setSweep(sweepNumber=0, channel=1) \n",
    "    muscle_v = data_tmp.sweepY\n",
    "    muscle_label = data_tmp.sweepLabelY\n",
    "    \n",
    "    \n",
    "    return {'nerve_data':nerve_v,\n",
    "            'muscle_data':muscle_v,\n",
    "            'times':times,\n",
    "            'misc':data_tmp,\n",
    "           }\n"
   ]
  },
  {
   "cell_type": "code",
   "execution_count": 9,
   "metadata": {},
   "outputs": [],
   "source": [
    "def filter_data(data_array, kernel_size=801):\n",
    "    correction = medfilt(data_array, kernel_size=kernel_size)\n",
    "    filtered_data = data_array - correction + np.median(data_array)\n",
    "    \n",
    "    return filtered_data, correction\n",
    "\n"
   ]
  },
  {
   "cell_type": "code",
   "execution_count": 10,
   "metadata": {},
   "outputs": [],
   "source": [
    "def plot_two_panels(array_nerve, array_muscle, times, x_lim=False):\n",
    "    \n",
    "    fig, axes = plt.subplots(2, 1, figsize=(10, 5), sharey=False)\n",
    "\n",
    "    axes = axes.ravel()\n",
    "\n",
    "    axes[0].plot(times, array_nerve)\n",
    "    axes[1].scatter(times, array_muscle)\n",
    "    \n",
    "    if x_lim:\n",
    "        axes[0].set_xlim(x_lim[0],x_lim[1])\n",
    "        axes[1].set_xlim(x_lim[0],x_lim[1])\n",
    "\n",
    "    \n",
    "    plt.tight_layout()\n",
    "    plt.show()"
   ]
  },
  {
   "cell_type": "code",
   "execution_count": 11,
   "metadata": {},
   "outputs": [],
   "source": [
    "## run "
   ]
  },
  {
   "cell_type": "code",
   "execution_count": 12,
   "metadata": {},
   "outputs": [],
   "source": [
    "all_lab3 = glob('../data/1_CrayfishNeuromuscularJunction/lab3/*')\n",
    "all_lab4 = glob('../data/1_CrayfishNeuromuscularJunction/lab4/*')\n"
   ]
  },
  {
   "cell_type": "code",
   "execution_count": 30,
   "metadata": {},
   "outputs": [],
   "source": [
    "# file params\n",
    "file_n = ['21915003','21915004','21915007',\n",
    "          '21915005','21915006','21915008',\n",
    "          '21915009','21915010','21915011']\n",
    "\n",
    "muscle_id = [0,0,0,0,0,1,1,1,1] #0 medial / #1 lateral\n",
    "splash = [0,0,0,1,1,0,0,1,1] # 1 splash, 0 no splash\n",
    "splash_side = [0,0,0,1,2,0,0,1,2] #0 no, 1 ipsi, 2 contra\n",
    "\n",
    "\n",
    "def get_file_prop(file_name):\n",
    "    file_index = file_n.index(file_name[-12:-4])\n",
    "    \n",
    "    return muscle_id[file_index], splash[file_index], splash_side[file_index]\n",
    "    "
   ]
  },
  {
   "cell_type": "code",
   "execution_count": 32,
   "metadata": {},
   "outputs": [],
   "source": [
    "\n",
    "# for file_path in all_lab3:\n",
    "#     path_m_id, path_splash, _ = get_file_prop(file_path)\n",
    "#     print(file_path, m_id, path_splash)\n",
    "#     file_data = extract_paired(file_path)\n",
    "# #     plot_two_panels(file_data['nerve_data'], file_data['muscle_data'], file_data['times'])\n",
    "    "
   ]
  },
  {
   "cell_type": "code",
   "execution_count": 93,
   "metadata": {},
   "outputs": [],
   "source": [
    "# for sw in range(6):\n",
    "#     data_tmp.setSweep(sweepNumber=sw, channel=0) \n",
    "#     nerve_v = data_tmp.sweepY\n",
    "#     nerve_label = data_tmp.sweepLabelY\n",
    "    \n",
    "#     data_tmp.setSweep(sweepNumber=sw, channel=1) \n",
    "#     muscle_v = data_tmp.sweepY\n",
    "#     muscle_label = data_tmp.sweepLabelY\n",
    "\n",
    "#     times = data_tmp.sweepX\n",
    "    \n",
    "#     fig, axes = plt.subplots(2, 1, figsize=(10, 5), sharey=False)\n",
    "#     axes = axes.ravel()\n",
    "\n",
    "#     axes[0].plot(times, nerve_v)\n",
    "#     axes[1].scatter(times, muscle_v)\n",
    "    \n",
    "#     plt.tight_layout()\n",
    "\n",
    "#     plt.show()"
   ]
  },
  {
   "cell_type": "code",
   "execution_count": null,
   "metadata": {},
   "outputs": [],
   "source": []
  },
  {
   "cell_type": "code",
   "execution_count": null,
   "metadata": {},
   "outputs": [],
   "source": []
  },
  {
   "cell_type": "code",
   "execution_count": null,
   "metadata": {},
   "outputs": [],
   "source": []
  }
 ],
 "metadata": {
  "kernelspec": {
   "display_name": "neu501",
   "language": "python",
   "name": "neu501"
  },
  "language_info": {
   "codemirror_mode": {
    "name": "ipython",
    "version": 3
   },
   "file_extension": ".py",
   "mimetype": "text/x-python",
   "name": "python",
   "nbconvert_exporter": "python",
   "pygments_lexer": "ipython3",
   "version": "3.8.5"
  }
 },
 "nbformat": 4,
 "nbformat_minor": 4
}
