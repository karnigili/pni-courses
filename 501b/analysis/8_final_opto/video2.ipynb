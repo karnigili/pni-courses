{
 "cells": [
  {
   "cell_type": "code",
   "execution_count": 1,
   "metadata": {},
   "outputs": [],
   "source": [
    "import h5py\n",
    "from scipy.interpolate import interp1d\n",
    "import numpy as np\n",
    "import matplotlib.pyplot as plt\n",
    "from scipy.signal import savgol_filter\n",
    "from scipy.signal import find_peaks\n",
    "import seaborn as sns\n",
    "import scipy as sp"
   ]
  },
  {
   "cell_type": "code",
   "execution_count": 10,
   "metadata": {},
   "outputs": [],
   "source": [
    "vpr6_0001 = \"../../SLEAP/vid_501b/temp-12062021143912-0000.v000.analysis.h5\"\n",
    "vpr6_001 = \"../../SLEAP/vid_501b/temp-12062021144739-0000.mp4.predictions.analysis.h5\"\n",
    "vpr6_01 = \"../../SLEAP/vid_501b/temp-12062021152724-0000.mp4.predictions.analysis.h5\"\n",
    "\n",
    "\n",
    "HEAD_INDEX = 0\n",
    "THORAX_INDEX = 1\n",
    "WING_L_INDEX = 2\n",
    "WING_R_INDEX = 3"
   ]
  },
  {
   "cell_type": "code",
   "execution_count": 11,
   "metadata": {},
   "outputs": [],
   "source": [
    "\n",
    "def get_data(filename):\n",
    "    with h5py.File(filename, \"r\") as f:\n",
    "        dset_names = list(f.keys())\n",
    "        locations = f[\"tracks\"][:].T\n",
    "        node_names = [n.decode() for n in f[\"node_names\"][:]]\n",
    "        \n",
    "    return dset_names, locations, node_names"
   ]
  },
  {
   "cell_type": "code",
   "execution_count": 12,
   "metadata": {},
   "outputs": [],
   "source": [
    "def fill_missing(Y, kind=\"linear\"):\n",
    "    \"\"\"Fills missing values independently along each dimension after the first.\"\"\"\n",
    "\n",
    "    # Store initial shape.\n",
    "    initial_shape = Y.shape\n",
    "\n",
    "    # Flatten after first dim.\n",
    "    Y = Y.reshape((initial_shape[0], -1))\n",
    "\n",
    "    # Interpolate along each slice.\n",
    "    for i in range(Y.shape[-1]):\n",
    "        y = Y[:, i]\n",
    "\n",
    "        # Build interpolant.\n",
    "        x = np.flatnonzero(~np.isnan(y))\n",
    "        f = interp1d(x, y[x], kind=kind, fill_value=np.nan, bounds_error=False)\n",
    "\n",
    "        # Fill missing\n",
    "        xq = np.flatnonzero(np.isnan(y))\n",
    "        y[xq] = f(xq)\n",
    "        \n",
    "        # Fill leading or trailing NaNs with the nearest non-NaN values\n",
    "        mask = np.isnan(y)\n",
    "        y[mask] = np.interp(np.flatnonzero(mask), np.flatnonzero(~mask), y[~mask])\n",
    "\n",
    "        # Save slice\n",
    "        Y[:, i] = y\n",
    "\n",
    "    # Restore to initial shape.\n",
    "    Y = Y.reshape(initial_shape)\n",
    "    return Y"
   ]
  },
  {
   "cell_type": "code",
   "execution_count": 22,
   "metadata": {},
   "outputs": [],
   "source": [
    "\n",
    "dset_names, locations, node_names = get_data(vpr6_001)\n",
    "locations = fill_missing(locations)\n"
   ]
  },
  {
   "cell_type": "code",
   "execution_count": 14,
   "metadata": {},
   "outputs": [],
   "source": [
    "def get_angle(head, thorax, wing):\n",
    "    ## get angle between head and wing via thorax\n",
    "    \n",
    "    body_axis = head - thorax \n",
    "    wing_axis = wing - thorax\n",
    "\n",
    "    cosine_angle = np.dot(body_axis, wing_axis) / (np.linalg.norm(body_axis) * np.linalg.norm(wing_axis))\n",
    "    angle = np.arccos(cosine_angle)\n",
    "\n",
    "    return 180-np.degrees(angle)\n"
   ]
  },
  {
   "cell_type": "code",
   "execution_count": 15,
   "metadata": {},
   "outputs": [],
   "source": [
    "head_loc = locations[:, HEAD_INDEX, :]\n",
    "thorax_loc = locations[:, THORAX_INDEX, :]\n",
    "wing_r_loc = locations[:, WING_R_INDEX, :]\n",
    "wing_l_loc = locations[:, WING_L_INDEX, :]\n",
    "\n",
    "left_ang = []\n",
    "right_ang = []\n",
    "\n",
    "for i  in range(thorax_loc.shape[0]):\n",
    "    \n",
    "    left_ang.append(get_angle(head_loc[i].T[0], thorax_loc[i].T[0], wing_l_loc[i].T[0]))\n",
    "    right_ang.append(get_angle(head_loc[i].T[0], thorax_loc[i].T[0], wing_r_loc[i].T[0]))\n",
    "               "
   ]
  },
  {
   "cell_type": "code",
   "execution_count": 20,
   "metadata": {},
   "outputs": [
    {
     "data": {
      "text/plain": [
       "[<matplotlib.lines.Line2D at 0x7fe1d843c4c0>]"
      ]
     },
     "execution_count": 20,
     "metadata": {},
     "output_type": "execute_result"
    },
    {
     "data": {
      "image/png": "[encoded data removed]",
      "text/plain": [
       "<Figure size 432x288 with 1 Axes>"
      ]
     },
     "metadata": {
      "needs_background": "light"
     },
     "output_type": "display_data"
    }
   ],
   "source": [
    "#plt.plot(np.array(left_ang))\n",
    "plt.plot(180-np.array(right_ang))"
   ]
  },
  {
   "cell_type": "code",
   "execution_count": null,
   "metadata": {},
   "outputs": [],
   "source": []
  }
 ],
 "metadata": {
  "kernelspec": {
   "display_name": "Python 3",
   "language": "python",
   "name": "python3"
  },
  "language_info": {
   "codemirror_mode": {
    "name": "ipython",
    "version": 3
   },
   "file_extension": ".py",
   "mimetype": "text/x-python",
   "name": "python",
   "nbconvert_exporter": "python",
   "pygments_lexer": "ipython3",
   "version": "3.8.5"
  }
 },
 "nbformat": 4,
 "nbformat_minor": 4
}
