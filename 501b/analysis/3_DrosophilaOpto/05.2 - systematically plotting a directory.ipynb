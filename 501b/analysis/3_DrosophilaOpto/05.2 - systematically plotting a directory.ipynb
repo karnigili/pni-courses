{
 "cells": [
  {
   "cell_type": "markdown",
   "metadata": {},
   "source": [
    "# neu 350 spring 2021<br>week 5: analyzing the Drosophila courtship song\n",
    "\n",
    "## part 2: systematically plotting the fly song annotations contained in a single directory\n",
    "\n",
    "\n",
    "\n"
   ]
  },
  {
   "cell_type": "markdown",
   "metadata": {},
   "source": [
    "## 1. Loading Libraries"
   ]
  },
  {
   "cell_type": "code",
   "execution_count": 1,
   "metadata": {},
   "outputs": [],
   "source": [
    "# Import packages\n",
    "\n",
    "import os\n",
    "import numpy as np\n",
    "import matplotlib.pyplot as pl\n",
    "import scipy as sp\n",
    "from scipy.io import loadmat\n",
    "import glob    ####  this will help us load all the files with specific extension in a given folder"
   ]
  },
  {
   "cell_type": "code",
   "execution_count": 2,
   "metadata": {},
   "outputs": [],
   "source": [
    "import matplotlib\n",
    "%matplotlib notebook"
   ]
  },
  {
   "cell_type": "markdown",
   "metadata": {},
   "source": [
    "# 4. If you want to plot data from all the files using a 'for' loop for quick visualization "
   ]
  },
  {
   "cell_type": "code",
   "execution_count": 5,
   "metadata": {},
   "outputs": [
    {
     "name": "stdout",
     "output_type": "stream",
     "text": [
      "Collected filenames for 21 files.\n",
      "The second element of the list is ./dataset 1/18n19004_6.mat\n",
      "18n19004_6.mat\n"
     ]
    }
   ],
   "source": [
    "## below, supply the path to the folder containing your .mat files.\n",
    "\n",
    "## '.' means current directory, so this will work if the `dataset 1` folder is inside the folder \n",
    "## that contains this notebook\n",
    "\n",
    "## suggestion: separate individual experiments into their own folders before running this step.\n",
    "## each experiment is identified by what comes before the _ in the .mat files, and corresponds to a single .abf file\n",
    "\n",
    "list_of_all_files=(glob.glob(\"./dataset 1/*.mat\")) ## this will make a list consisting of all the files with .mat extension\n",
    "\n",
    "## let's print the number of elements in your list (i.e. the number of .mat files)\n",
    "print(f\"Collected filenames for {len(list_of_all_files)} files.\")\n",
    "\n",
    "## for example, let's print the name of the second element of this list\n",
    "print('The second element of the list is', list_of_all_files[1])\n",
    "\n",
    "##\n",
    "print(os.path.basename(os.path.normpath(list_of_all_files[1])))"
   ]
  },
  {
   "cell_type": "code",
   "execution_count": null,
   "metadata": {},
   "outputs": [],
   "source": [
    "for file in list_of_all_files:\n",
    "    mat=loadmat(file)\n",
    "\n",
    "    raw, times, sines, pulses = mat['dataout'], mat['times'], mat['sines'], mat['pulses']\n",
    "    times = times.squeeze()\n",
    "    \n",
    "    # make a plot of the fly song, with pulse and sine song annotated by color\n",
    "    # make a second plot of the carrier frequencies of detected sine and pulse song.\n",
    "\n",
    "    fig,axs = pl.subplots(3, 1, sharex=True)\n",
    "\n",
    "    # plot raw mic trace\n",
    "    axs[0].plot(times,raw[:,0], color='grey') \n",
    "    axs[0].set_ylabel('Audio amplitude (a.u.)')\n",
    "\n",
    "    #unpack sine annotation\n",
    "    sine_starts = sines[0].astype(int)     # start coord of a sine song bout\n",
    "    sine_ends = sines[1].astype(int)       # end coord of a sine song bout\n",
    "\n",
    "    sine_cfs = sines[2]                    # carrier freq of that bout\n",
    "    sine_cft = times[((sine_starts + sine_ends)/2).astype(int)] # plot CF at the center of the detected feature\n",
    "\n",
    "    #unpack pulse annotation\n",
    "    pulse_starts = pulses[1].astype(int)   # start coord of an individual pulse\n",
    "    pulse_ends = pulses[2].astype(int)     # end coord of an individual pulse\n",
    "\n",
    "    pulse_cfs = pulses[3]                  # carrier freq of that individual pulse\n",
    "    pulse_cft = times[((pulse_starts + pulse_ends)/2).astype(int)] # time coord at center of that pulse\n",
    "\n",
    "\n",
    "    #paint sines red, pulses blue\n",
    "    for i in range(len(sine_starts)):\n",
    "        sine_line = axs[0].plot(times[sine_starts[i]:sine_ends[i]],\n",
    "                                raw[sine_starts[i]:sine_ends[i],0],\n",
    "                                color='red')\n",
    "\n",
    "    for i in range(len(pulse_starts)):\n",
    "        pulse_line =axs[0].plot(times[pulse_starts[i]:pulse_ends[i]],\n",
    "                                raw[pulse_starts[i]:pulse_ends[i],0],\n",
    "                                color='dodgerblue')\n",
    "\n",
    "    #legend\n",
    "    axs[0].scatter([], [], c=\"red\", label=\"sine song\", s=20)  # make an empty scatter plot to generate the legend from\n",
    "    axs[0].scatter([], [], c=\"dodgerblue\", label=\"pulse song\", s=20)\n",
    "    axs[0].legend(loc=\"best\")\n",
    "    axs[0].set_title(file)\n",
    "    axs[0].set_title(os.path.basename(os.path.normpath(file)))\n",
    "\n",
    "    # second y axis (dots): carrier frequencies\n",
    "    axs[1].plot(sine_cft, sine_cfs, marker='.', color='red', linewidth=0)\n",
    "    axs[1].plot(pulse_cft, pulse_cfs, marker='.', color='dodgerblue', linewidth=0)\n",
    "    axs[1].set_xlabel('Time (sec)')\n",
    "    axs[1].set_ylabel('Carrier frequency (Hz)')\n",
    "    \n",
    "    # third y axis: LED stimulus\n",
    "    axs[2].plot(times,raw[:,1], color='black')\n",
    "    axs[2].set_ylabel('LED stmulation (V)')\n",
    "    axs[2].set_ylim((-0.5,10.5))  # this trace has no stim!\n",
    "    axs[2].set_xlabel('Time (sec)')"
   ]
  }
 ],
 "metadata": {
  "anaconda-cloud": {},
  "kernelspec": {
   "display_name": "Python 3",
   "language": "python",
   "name": "python3"
  },
  "language_info": {
   "codemirror_mode": {
    "name": "ipython",
    "version": 3
   },
   "file_extension": ".py",
   "mimetype": "text/x-python",
   "name": "python",
   "nbconvert_exporter": "python",
   "pygments_lexer": "ipython3",
   "version": "3.8.5"
  }
 },
 "nbformat": 4,
 "nbformat_minor": 2
}
