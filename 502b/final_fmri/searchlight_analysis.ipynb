{
 "cells": [
  {
   "cell_type": "code",
   "execution_count": null,
   "id": "5d8d444b",
   "metadata": {},
   "outputs": [],
   "source": []
  },
  {
   "cell_type": "code",
   "execution_count": 1,
   "id": "37c7a8a5",
   "metadata": {},
   "outputs": [
    {
     "name": "stderr",
     "output_type": "stream",
     "text": [
      "/opt/anaconda3/envs/neu502b/lib/python3.9/site-packages/nilearn/datasets/__init__.py:93: FutureWarning: Fetchers from the nilearn.datasets module will be updated in version 0.9 to return python strings instead of bytes and Pandas dataframes instead of Numpy arrays.\n",
      "  warn(\"Fetchers from the nilearn.datasets module will be \"\n"
     ]
    }
   ],
   "source": [
    "\n",
    "import nibabel as nib\n",
    "import nilearn as nil\n",
    "\n",
    "from nilearn import input_data\n",
    "from nilearn import datasets\n",
    "from nilearn import image\n",
    "\n",
    "from nilearn import plotting\n",
    "from nilearn.plotting import plot_prob_atlas, plot_roi, plot_matrix\n",
    "from nilearn.image import index_img\n",
    "from nilearn.regions import RegionExtractor\n",
    "from nilearn.connectome import ConnectivityMeasure\n",
    "from nilearn.glm.first_level import FirstLevelModel\n",
    "from nilearn.image import concat_imgs, index_img, mean_img, new_img_like\n",
    "from nilearn import datasets\n",
    "from nilearn.image import concat_imgs, index_img, mean_img, new_img_like\n",
    "from nilearn.input_data import NiftiMasker\n",
    "from nilearn.decoding import SearchLight, DecoderRegressor\n",
    "from sklearn.pipeline import make_pipeline\n",
    "from sklearn.preprocessing import StandardScaler\n",
    "from sklearn.svm import LinearSVC\n",
    "\n",
    "import seaborn as sns\n",
    "\n",
    "from glob import glob\n",
    "from tqdm import tqdm\n",
    "\n",
    "import numpy as np\n",
    "import scipy as sp\n",
    "import pandas as pd\n",
    "import re\n",
    "import csv\n",
    "\n",
    "from sklearn.preprocessing import Normalizer\n",
    "from sklearn import svm\n",
    "\n",
    "import os, sys\n",
    "from os.path import dirname, exists\n",
    "\n",
    "import matplotlib.pyplot as plt\n",
    "import warnings\n",
    "warnings.filterwarnings(\"ignore\")"
   ]
  },
  {
   "cell_type": "code",
   "execution_count": 2,
   "id": "2c181925",
   "metadata": {},
   "outputs": [],
   "source": [
    "all_nifti_files = glob(os.path.join('data','derivatives','fsl',\n",
    "                          'sub-*',\n",
    "                          'func','sub-*_task-beads_run-*_desc-preproc_bold.nii.gz'))\n",
    "\n",
    "subject_ids = [re.search(r'-.*', strr)[0][1:] for strr in glob(os.path.join('data','derivatives','fsl','sub-*'))]\n",
    "\n",
    "# os.path.join('data',f'sub-{subject}',\n",
    "#                              'func',\n",
    "#                             f'sub-{subject}_task-beads_run-{run}_events.tsv')\n"
   ]
  },
  {
   "cell_type": "code",
   "execution_count": 3,
   "id": "c68159ed",
   "metadata": {},
   "outputs": [],
   "source": [
    "nifti_data_paths = {subject:{run:[] for run in [1,2,3,4]} for subject in subject_ids}\n",
    "\n",
    "for subject in subject_ids:\n",
    "    for run in [1,2,3,4]:\n",
    "        path = os.path.join('data','derivatives','fsl',\n",
    "                          'sub-{}'.format(subject),\n",
    "                          'func',f'sub-{subject}_task-beads_run-{run}_desc-preproc_bold.nii.gz')\n",
    "        nifti_data_paths[subject][run] = path\n",
    "        \n",
    "        \n",
    "        "
   ]
  },
  {
   "cell_type": "code",
   "execution_count": 4,
   "id": "dd510bbb",
   "metadata": {},
   "outputs": [],
   "source": [
    "all_behav_data = pd.DataFrame(columns=['onset', 'duration', 'event_type', 'num_beads_high', 'num_beads_low',\n",
    "       'points_high', 'bead_type', 'bet_jar_type', 'button', 'initialVOI',\n",
    "       'updatedVOI','subject','run'])\n",
    "\n",
    "for subject in subject_ids:\n",
    "    for run in [1,2,3,4]:\n",
    "        path = os.path.join('data',f'sub-{subject}',\n",
    "                             'func',\n",
    "                            f'sub-{subject}_task-beads_run-{run}_events.tsv')\n",
    "        \n",
    "        tmp_behav_df = pd.read_csv(path, sep='\\t')\n",
    "        tmp_behav_df['subject'] = subject\n",
    "        tmp_behav_df['run'] = run\n",
    "\n",
    "        all_behav_data=pd.concat([all_behav_data, tmp_behav_df] )\n",
    "\n",
    "# to mark clean data avaibiltity\n",
    "all_behav_data['clean_data'] = False        "
   ]
  },
  {
   "cell_type": "code",
   "execution_count": 5,
   "id": "11ecc543",
   "metadata": {},
   "outputs": [],
   "source": [
    "all_behav_data = all_behav_data.reset_index(drop=True)"
   ]
  },
  {
   "cell_type": "code",
   "execution_count": 6,
   "id": "47dd61c7",
   "metadata": {},
   "outputs": [],
   "source": [
    "## prep df\n",
    "\n",
    "all_behav_data['additional_draw_T'] = 0 # time for additional draws\n",
    "all_behav_data['additional_draw_N_high'] = 0 # nunber of additional high draws\n",
    "all_behav_data['additional_draw_N_low'] = 0 # nunber of additional low draws\n",
    "\n",
    "\n",
    "tmp_all_behav_data = all_behav_data[all_behav_data.event_type.isin([#'initial_beads',\n",
    "                                                #'extra_bead',\n",
    "                                        'additional_draw_allowed',\n",
    "                                               'terminate_draw',\n",
    "                                              ])][['onset',\n",
    "                                                  'event_type',\n",
    "                                                 'num_beads_high',\n",
    "                                                 'num_beads_low']]"
   ]
  },
  {
   "cell_type": "code",
   "execution_count": 7,
   "id": "a9000751",
   "metadata": {},
   "outputs": [],
   "source": [
    "### add additioanl draw info to df\n",
    "for (i0, row0), (i1, row1) in zip(tmp_all_behav_data[:-1].iterrows(),\n",
    "                    tmp_all_behav_data[1:].iterrows()):\n",
    "\n",
    "    \n",
    "    if (row0.event_type=='additional_draw_allowed') &\\\n",
    "             (row1.event_type=='terminate_draw'):\n",
    "        delta_t = row1.onset - row0.onset\n",
    "        additional_draw_N_high = row1.num_beads_high - row0.num_beads_high\n",
    "        additional_draw_N_low = row1.num_beads_low - row0.num_beads_low\n",
    "\n",
    "        all_behav_data.loc[i0,['additional_draw_T']] = delta_t\n",
    "        all_behav_data.loc[i0,['additional_draw_N_high']] = additional_draw_N_high\n",
    "        all_behav_data.loc[i0,['additional_draw_N_low']] = additional_draw_N_low\n",
    "\n",
    "  "
   ]
  },
  {
   "cell_type": "code",
   "execution_count": 8,
   "id": "3dad23ce",
   "metadata": {},
   "outputs": [],
   "source": [
    "TR = 1.5"
   ]
  },
  {
   "cell_type": "code",
   "execution_count": 9,
   "id": "eca7805a",
   "metadata": {},
   "outputs": [
    {
     "name": "stderr",
     "output_type": "stream",
     "text": [
      "15it [03:29, 13.95s/it]\n"
     ]
    }
   ],
   "source": [
    "func_trials_all = []\n",
    "y_T = []\n",
    "y_nl = []\n",
    "y_nh = []\n",
    "y_curr_nl = []\n",
    "y_curr_nh = []\n",
    "\n",
    "y_reward_type = []\n",
    "for sub_i, sub in tqdm(enumerate(nifti_data_paths)):\n",
    "    for run in nifti_data_paths[sub]:\n",
    "        \n",
    "        img = nifti_data_paths[sub][run]\n",
    "        \n",
    "        sub_df = all_behav_data[(all_behav_data['subject']==sub) &\\\n",
    "               (all_behav_data['run']==run) &\\\n",
    "            (all_behav_data['event_type']=='additional_draw_allowed')]        \n",
    "        \n",
    "        #indexes\n",
    "        x = np.array(sub_df.onset/TR+3, dtype=int)\n",
    "        indexes = x[x<400]\n",
    "        n = len(indexes)                     \n",
    "        # add   \n",
    "        try:\n",
    "            func_trials_all.append(index_img(img, indexes))\n",
    "            \n",
    "            y_T.append(sub_df.additional_draw_T.to_list()[:n])\n",
    "            y_nl.append(sub_df.additional_draw_N_low.to_list()[:n]) \n",
    "            y_nh.append(sub_df.additional_draw_N_high.to_list()[:n])\n",
    "            y_curr_nl.append(sub_df.num_beads_high.to_list()[:n])\n",
    "            y_curr_nh.append(sub_df.num_beads_low.to_list()[:n])\n",
    "            y_reward_type.append(sub_df.points_high.to_list()[:n])\n",
    "        \n",
    "        except EOFError:\n",
    "            continue\n"
   ]
  },
  {
   "cell_type": "code",
   "execution_count": 10,
   "id": "7c5d4809",
   "metadata": {},
   "outputs": [],
   "source": [
    "y_T_flat = np.array([item for sublist in y_T for item in sublist])\n",
    "y_nl_flat = np.array([item for sublist in y_nl for item in sublist])\n",
    "y_nh_flat = np.array([item for sublist in y_nh for item in sublist])\n",
    "y_curr_nl_flat = np.array([item for sublist in y_curr_nl for item in sublist])\n",
    "y_curr_nh_flat = np.array([item for sublist in y_curr_nh for item in sublist])\n",
    "\n",
    "y_curr_nl_arr = np.array(y_curr_nl)\n",
    "y_curr_nh_arr = np.array(y_curr_nh)\n",
    "\n",
    "\n",
    "y_reward_type_flat = np.array([item for sublist in y_reward_type for item in sublist])\n"
   ]
  },
  {
   "cell_type": "code",
   "execution_count": 11,
   "id": "90a5d8c8",
   "metadata": {},
   "outputs": [],
   "source": [
    "# time to draw/n of draws\n",
    "y_T_norm = y_T_flat/(y_nl_flat+y_nh_flat+1)\n",
    "\n",
    "# diff in categories / total beads\n",
    "y_H = np.abs(y_curr_nl_flat-y_curr_nh_flat)/(y_curr_nl_flat+y_curr_nh_flat)\n",
    "\n"
   ]
  },
  {
   "cell_type": "code",
   "execution_count": 12,
   "id": "4b0749d9",
   "metadata": {},
   "outputs": [],
   "source": [
    "## entropy\n",
    "get_H = lambda p: -1*np.sum([p_i*np.log2(p_i) for p_i in p], axis=0)"
   ]
  },
  {
   "cell_type": "code",
   "execution_count": 13,
   "id": "c132c4c7",
   "metadata": {},
   "outputs": [],
   "source": [
    "p_l= y_curr_nl_flat/ (y_curr_nl_flat + y_curr_nh_flat)\n",
    "p_h= y_curr_nh_flat/ (y_curr_nl_flat + y_curr_nh_flat)"
   ]
  },
  {
   "cell_type": "code",
   "execution_count": 14,
   "id": "582f9d03",
   "metadata": {},
   "outputs": [],
   "source": [
    "\n",
    "y_ent = get_H([p_h, p_l])"
   ]
  },
  {
   "cell_type": "code",
   "execution_count": 15,
   "id": "eccf9bd7",
   "metadata": {},
   "outputs": [],
   "source": [
    "func_trials = []\n",
    "for img in func_trials_all:\n",
    "    for ind in range(img.shape[3]):\n",
    "         func_trials.append(index_img(img, ind))\n",
    "    "
   ]
  },
  {
   "cell_type": "code",
   "execution_count": 17,
   "id": "a3b9698a",
   "metadata": {},
   "outputs": [],
   "source": [
    "func_mean = mean_img(func_trials)\n",
    "\n",
    "masker = NiftiMasker(mask_strategy='epi').fit(func_mean)\n",
    "mask = masker.mask_img_"
   ]
  },
  {
   "cell_type": "code",
   "execution_count": 18,
   "id": "1b91e9a0",
   "metadata": {},
   "outputs": [],
   "source": [
    "func_trials_all_resample = []\n",
    "for img in func_trials_all:\n",
    "    img0 = image.resample_img(img, \n",
    "                   target_affine=mask.get_affine(), \n",
    "                   target_shape=mask.shape)\n",
    "    func_trials_all_resample.append(img0)"
   ]
  },
  {
   "cell_type": "code",
   "execution_count": 20,
   "id": "80410b2f",
   "metadata": {},
   "outputs": [],
   "source": [
    "func_trials_resample = []\n",
    "for img in func_trials:\n",
    "    img0 = image.resample_img(img, \n",
    "                   target_affine=mask.get_affine(), \n",
    "                   target_shape=mask.shape)\n",
    "    func_trials_resample.append(img0)"
   ]
  },
  {
   "cell_type": "code",
   "execution_count": null,
   "id": "1aa392e3",
   "metadata": {},
   "outputs": [],
   "source": []
  },
  {
   "cell_type": "code",
   "execution_count": null,
   "id": "7ceab452",
   "metadata": {},
   "outputs": [],
   "source": [
    "## regress"
   ]
  },
  {
   "cell_type": "code",
   "execution_count": 54,
   "id": "a32a2d96",
   "metadata": {},
   "outputs": [],
   "source": [
    "searchlight = SearchLight(mask_img=mask, \n",
    "                          radius=5.6, \n",
    "                          estimator='svr',\n",
    "                          n_jobs=1,\n",
    "                          cv=None,\n",
    "                          verbose=1)\n"
   ]
  },
  {
   "cell_type": "code",
   "execution_count": 101,
   "id": "6c26b2e8",
   "metadata": {},
   "outputs": [],
   "source": [
    "train_ids = np.random.choice(len(func_trials_resample), 10)\n"
   ]
  },
  {
   "cell_type": "code",
   "execution_count": 100,
   "id": "9d225d6b",
   "metadata": {},
   "outputs": [],
   "source": [
    "searchlight.fit(func_trials_resample[100:110], y_T_norm[100:110])"
   ]
  },
  {
   "cell_type": "code",
   "execution_count": 53,
   "id": "38b9615d",
   "metadata": {},
   "outputs": [],
   "source": [
    "results = new_img_like(func_mean, searchlight.scores_)"
   ]
  },
  {
   "cell_type": "code",
   "execution_count": 122,
   "id": "e66e44be",
   "metadata": {
    "scrolled": true
   },
   "outputs": [
    {
     "data": {
      "image/png": "[encoded data removed]",
      "text/plain": [
       "<Figure size 525.6x187.2 with 5 Axes>"
      ]
     },
     "metadata": {},
     "output_type": "display_data"
    }
   ],
   "source": [
    "from nilearn.plotting import plot_stat_map, show\n",
    "bg_filename = func_mean\n",
    "display = plot_stat_map(results, \n",
    "                        bg_img=bg_filename, \n",
    "                        threshold=.03)\n",
    "display.title(\"SVM weights\")\n",
    "plt.show()"
   ]
  },
  {
   "cell_type": "code",
   "execution_count": null,
   "id": "da0b8ab1",
   "metadata": {},
   "outputs": [],
   "source": []
  }
 ],
 "metadata": {
  "kernelspec": {
   "display_name": "502b",
   "language": "python",
   "name": "502b"
  },
  "language_info": {
   "codemirror_mode": {
    "name": "ipython",
    "version": 3
   },
   "file_extension": ".py",
   "mimetype": "text/x-python",
   "name": "python",
   "nbconvert_exporter": "python",
   "pygments_lexer": "ipython3",
   "version": "3.9.7"
  }
 },
 "nbformat": 4,
 "nbformat_minor": 5
}
