{
 "cells": [
  {
   "cell_type": "markdown",
   "metadata": {
    "id": "fcly602WkdCr"
   },
   "source": [
    "# Problem Set #3: Models of Reinforcement Learning\n",
    "**DUE 3 March 2022 - NEU 502A**\n",
    "\n",
    "**Submission Directions:** Prior to submitting, clear you kernel and run through all your cells in order so figures and variables are accurately recorded. Only include cells with necessary code or answers, do not include cells used for troubleshooting. Email this notebook with your last name in the filename to Eric (ewh3@princeton.edu) by 5pm.\n",
    "\n",
    "Previously we aimed to get a sense of how a system could extract the hidden structure in sensory stimuli (i.e. natural scenes). We implemented unsupervised learning in the form of Hebbian rules to this end. Our model was shown a set of images with no final goal specified, nor expectations with which to compare its performance throughout learning. Now we are interested in how a system can learn to reach a goal through interactions with its environment. Specifically, we are interested in modelling how a system can learn to maximize rewards or minimize penalties.\n",
    "\n",
    "Think about an infant as it moves and looks around. Sometimes the parent will guide its actions, yet it may not be the case at all times. Even when alone, there is learning taking place. There is a sensory-motor connection with the environment, where the infant gains knowledge about cause and effect. Throughout our experience, we are aware of how our surroundings respond to our actions. Thus, we actively seek to influence this relationship, and learn from it to maximize positive interactions and minimize negative ones.\n",
    "    \n",
    "Reinforcement learning models are about solving problems to maximize a quantification of reward. The models use goal-directed learning to solve closed-loop¬ problems. This can be seen below where present actions influence the environment, in turn changing the circumstances in which the learning system will act in the future towards the same goal. In RL, we hope to discover the actions that increase chances of rewards within specific states in the environment.\n",
    "\n",
    "<img src=\"model.png\" width=\"350\">  \n",
    "\n",
    "Let’s call the learning system an agent interacting with an environment to achieve a goal. This agent must be able to sense the state of the environment either fully or partially, and its actions must be able to change this said state. Here is an example:\n",
    "> “Think about preparing breakfast. Closely examined, this activity reveals a complex web of conditional behaviors with goal-subgoal relationships: walking to the cupboard, opening it, selecting a cereal box, then reaching for, grasping, and retrieving the box. Another set of interactive sequences are required to obtain a bowl, spoon, and milk jug. Each step involves a series of eye movements to obtain information and to guide them. Rapid judgments are continually made about how to carry the objects or whether it is better to ferry some of them to the dining table before obtaining others. Each step is guided by goals, such as grasping a spoon or getting to the refrigerator, and is in service of other goals, such as having the spoon to eat with once the cereal is prepared and ultimately obtaining nourishment. Whether you are aware of it or not, you are accessing information about the state of your body that determines nutritional needs, level of hunger, and food preferences.”\n",
    "\n",
    "At each junction, there is a state-action pair. Some of them fall under sub-goals, while others could ultimately be a state where there is a high chance of reward, fulfilling the goal of feeding. To be able to model this process, we have to break it down into its interacting components: \n",
    "- The agent has a policy, the map between perceived states and the actions taken. We can think of it as a set of stimulus-response rules or associations that determine behavior given a state and a goal within the environment. It can be implemented through the probabilities of taking specific actions given a state. \n",
    "- This set of rules should help to maximize the reward signal, be it at the short or long term. \n",
    "- The signal is evaluated through a value function, which provides a measure of the expected rewards that can be obtained moving forward from a specific state. Grabbing a bowl might not feed you immediately, yet it has high value as it will lead you to a state in which you can feed yourself some cereal without spilling milk all over the table. Would grabbing a shallow dish instead of a bowl have the same value, within the confines of the above example? Actions are taken based on these value judgements. \n",
    "- The agent could have the ability for foresight and planning if it has a model of the environment. This means it can have a model of how the environment reacts to its behavior, from which to base its strategies and adjustments.\n",
    "\n",
    "At each decision, the agent has a choice to either exploit the actions it has already tested to be effective, or it can explore the action-state space to find new routes to optimal rewards. Exploration is risky, yet under some circumstances it will pay off in the long run. Finding the balance between the two would be the optimal solution in uncertain environments. Different methods can be employed to deal with this duality:\n",
    "- On-policy methods improve the policy that is used to make decisions. This policy is generally soft (probabilistic), as $P(s∈S,a∈A│s)>0$, where $S$ is the possible states and $A|s$ is the possible actions given a state. The probability is gradually shifted to a deterministic optimal policy with each update. For example, $\\epsilon-greedy$ policies choose an action that has maximal expected value most of the time (with probability 1 – a small number $\\epsilon$). However, with probability $\\epsilon$ they choose an action at random. The method is trying to learn values based on subsequent optimal behavior, yet it has to behave non-optimally (choosing random actions) in order to explore and find the optimal actions. This means the agent has to learn about the optimal policy while behaving according to an exploratory policy. On-policy can be thought of as a compromise, where values are learned for a near optimal policy that still explores. \n",
    "- Another approach is to use two policies, a target policy and a behavior policy. The first one is modified based on the information that is collected through the behaviors generated by the second. This approach is termed off-policy, as learning occurs based on behaviors generated off the policy being developed. The benefit here is that the target policy can be deterministic (i.e. greedy), while the behavior-policy can continue to explore without limits."
   ]
  },
  {
   "cell_type": "code",
   "execution_count": 120,
   "metadata": {
    "id": "P3U33QppkdCy"
   },
   "outputs": [],
   "source": [
    "import numpy as np\n",
    "import matplotlib.pyplot as plt\n",
    "from scipy.io import loadmat\n",
    "from scipy.optimize import minimize\n",
    "from scipy.special import logsumexp,softmax\n",
    "from scipy.stats import norm\n",
    "\n",
    "import seaborn as sns\n",
    "import pandas as pd\n",
    "import random\n",
    "\n",
    "%matplotlib inline\n",
    "sns.set_context('talk')\n",
    "\n",
    "import warnings\n",
    "warnings.filterwarnings('ignore')"
   ]
  },
  {
   "cell_type": "markdown",
   "metadata": {
    "id": "_FW-ValPkdCz"
   },
   "source": [
    "### PART I – Fitting RL models to data\n",
    "\n",
    "**A :: Run the *sequential/sequential.m* matlab task on yourself.**\n",
    "\n",
    "First, we need to acquire some data. You are the agent this time around. For this you need Matlab with Psychtoolbox installed. The code that runs the experiment has been tested on Mac. Some adjustments may be needed so that it runs smoothly on Windows. (If you are running Windows, we recommend you borrow a Mac to do the experiment, or use the Princeton Mac cluster). If you are unable to run the experiment, please inform the instructor. \n",
    "\n",
    "Steps to run:\n",
    "\n",
    "1.\tUnzip the attached directory “/sequential”\n",
    "\n",
    "2.\tRun “sequential/tutorial.m” which will explain the decision-making task.\n",
    "\n",
    "3.\tRun the task itself: “sequential/sequential.m” - this is a challenging task, so you might want to sequester yourself to a quiet room where you can concentrate. The task will take about 20 minutes. Try to do your best as you will compete to see who wins the most coins! \n",
    "\n",
    "    The data from your experiment can be found under the directory from which you ran the task, in a file called “Subj##-date-time.mat” where ## is the subject number you gave yourself, and the date and time are those at which you finished the task. (Please Email your data to the A.I. when you are done). The data is structured as follows:\n",
    "•\tchoice1 - your choices at the first level (1 or 2)\n",
    "•\tchoice2 - your choices at the second level (1 or 2)\n",
    "•\tstate - which second level game you were offered on this trial (choice1 = 1 at the first level (S1) leads to S2 in approximately 70% of the trials; choice1 = 2 leads to S3 in approximately 70% of the trials)\n",
    "•\tmoney - did you get a reward on each trial or not (1 or 0)\n",
    "\n",
    "    Note that missed trials will have a 0 in the choice; trials can be missed either at the first or second level. When you write your code (latter on), make sure to deal separately with missed trials as this is a common source of discrepancies while fitting the models. Below is a schematic of the task structure:\n",
    "\n",
    "\n",
    "<img src=\"task.png\" width=\"400\">\n",
    "\n",
    "|       | $A_1$     | $A_2$     |\n",
    "|:-----:|:---------:|:---------:|\n",
    "| $S_1$ | $Q_{S1,A1}$ | $Q_{S1,A2}$ |\n",
    "| $S_2$ | $Q_{S2,A1}$ | $Q_{S2,A2}$ |\n",
    "| $S_3$ | $Q_{S3,A1}$ | $Q_{S3,A2}$ |\n",
    "\n",
    "\n",
    "The schematic might not map to the colors used in the actual task.  S1 refers to the state at the top (first) level, where you will be shown two distinct symbols. You will have to choose one of the two (represented by action | state in the schematic). One of the symbols, let’s say A1|S1 will have 70% chance of transferring you to S2 (one of the possible states at the bottom level), and a 30% chance of getting you to S3. This is represented by the thickness of the arrows. The same goes for the symbol represented by A2|S1, yet the chances are inverted. At the bottom (second) level, you can be at either of two distinct states (S2 or S3). Once again you will need to choose between two symbols at each state, with gradually drifting chances of getting a coin once a decision is made. For example, symbol A1|S2 might start with higher chances than A2|S2. These will change gradually with time and at some point, the chances might be reversed. There is no implicit relationship between what happens in S2 and S3. You will have to learn, with each experience, which choices lead you to better rewards."
   ]
  },
  {
   "cell_type": "code",
   "execution_count": 121,
   "metadata": {
    "id": "SyftOnPKkdC0"
   },
   "outputs": [],
   "source": [
    "def load_data(fn):\n",
    "    \"Loading in matlab data structures for 2-step RL task (Daw et al., 2011)\"\n",
    "    d = loadmat(fn)\n",
    "    \n",
    "    def fix_vector(arr):\n",
    "        \"Making the array signed for subtraction to work, and resizing to 2D matrix and last dim size is 1\"\n",
    "        return arr.astype(np.int8).squeeze().reshape((-1,1))\n",
    "    \n",
    "    #variables for fitting:\n",
    "    choice1 = fix_vector(d[\"choice1\"])\n",
    "    choice2 = fix_vector(d[\"choice2\"])\n",
    "    state = fix_vector(d[\"state\"])\n",
    "    money = fix_vector(d[\"money\"])\n",
    "    \n",
    "    #adjust to start 0-indexing\n",
    "    choice1 -= 1\n",
    "    choice2 -= 1\n",
    "    state -= 1\n",
    "    \n",
    "    #adjust to 1D vectors\n",
    "    return choice1.flatten(), choice2.flatten(), state.flatten(), money.flatten()\n",
    "\n",
    "#load given sample data\n",
    "c1, c2, s, r = load_data('data.mat')\n",
    "\n",
    "#load collected class data. given to you by your AI\n"
   ]
  },
  {
   "cell_type": "markdown",
   "metadata": {
    "id": "pEZ9s3YwkdC0"
   },
   "source": [
    "**B :: Write down the update (learning) equations for two different models:**\n",
    "\n",
    "**b1.** At the bottom level, learning can be modeled with $Q$-learning or Rescorla-Wagner learning (as there is no future state). Note that these are identical if you treat each option as an action (in $Q$ learning) or as a state (the state of the chosen stimulus; in Rescorla-Wagner). Write down the equation for either one."
   ]
  },
  {
   "cell_type": "markdown",
   "metadata": {
    "id": "HdJUVJHKkdC0"
   },
   "source": [
    ">**Rescorla-Wagner**: $V \\leftarrow V + \\alpha(r-V)$\n",
    ">\n",
    ">or\n",
    ">\n",
    ">**Q-Learning**: $Q(s,a) \\leftarrow Q(s,a) + \\alpha (r + max_a Q(s',a)-Q(s,a))$\n",
    "\n",
    "where $\\alpha$ is learning rate"
   ]
  },
  {
   "cell_type": "markdown",
   "metadata": {
    "id": "fnopOciUkdC1"
   },
   "source": [
    "**b2.** At the top level, you can learn in several different ways. We will consider two:\n",
    "\n",
    "**b2a.** Model-free learning:\n",
    "\n",
    "> **b2ai.** Write down the Temporal Difference (TD) update rule for the first level. Can you think of a way to improve upon this learning rule, without requiring a model of the environment? For instance, how can you take into account the result of the choice at the second level here? "
   ]
  },
  {
   "cell_type": "markdown",
   "metadata": {
    "id": "4UEVhE7_kdC1"
   },
   "source": [
    ">>**TD(0)**: $V(s) \\leftarrow V(s) + \\alpha (r + V(s')-V(s))$\n",
    ">>\n",
    ">>**Answer:** We can add a discount factor term ($\\gamma$), discouting the value of future rewards : now the prediction error will be: $r + \\gamma V(s')-V(s)$"
   ]
  },
  {
   "cell_type": "markdown",
   "metadata": {
    "id": "rCsCpBBkkdC2"
   },
   "source": [
    "> **b2aii.** One way to make learning more efficient is to use TD($\\lambda$) instead of TD(0) learning. In this case, there is an additional memory variable associated with each state, its “eligibility trace\". You can think of it as a “memory\" that a particular state has been visited, which decays (for instance, exponentially) over time. Every time a state is visited, its eligibility trace becomes 1; at every subsequent time-point the eligibility trace is multiplied by a factor $0 < \\lambda \\leq 1$. At the end of a trial or episode, all eligibility traces become 0. \n",
    ">\n",
    "> All states are updated according to *learning rate $\\cdot$ prediction error $\\cdot$ eligibility trace*. This will automatically update all the states visited in this episode (i.e. all the states `eligible' for updating), doing so for the most recently visited states to a greater extent. Write the updated equation.\n"
   ]
  },
  {
   "cell_type": "markdown",
   "metadata": {
    "id": "8xwQAA3RkdC2"
   },
   "source": [
    ">>**TD($\\lambda$)**: $V(s) \\leftarrow V(s) + \\alpha E(s) (r + V(s')-V(s))$\n",
    ">> where the eligibility trace vector (E) is initialized to zero at the beginning of the episode, adn updates at each time step according to\n",
    "$E(s') = \\lambda E(s)$."
   ]
  },
  {
   "cell_type": "markdown",
   "metadata": {
    "id": "m_9wp8BKkdC2"
   },
   "source": [
    "**b2b.** Model-based learning:\n",
    "\n",
    "> **b2bi.** Assume that the transition model (i.e. the probabilities of going from $S1$ to $S2$ or $S3$ given choice1) is known from the start, while the reward model is not known. How can you use the transitions and the learned values at the bottom level to plan and make choices at the top level?"
   ]
  },
  {
   "cell_type": "markdown",
   "metadata": {
    "id": "msuvQ7-FkdC3"
   },
   "source": [
    ">>**Answer:** we can consider the probabilities of transitioning from S1 to S2 or S3 while making the top-level decision. "
   ]
  },
  {
   "cell_type": "markdown",
   "metadata": {
    "id": "yi3jcy3GkdC3"
   },
   "source": [
    ">**b2bii.** How would you implement it?"
   ]
  },
  {
   "cell_type": "markdown",
   "metadata": {
    "id": "-tfqIG3kkdC3"
   },
   "source": [
    ">>**Answer:** $$Q(s, a) = p(s'_2|s, a)max_{a}Q(s'_2,a) + p(s'_3|s, a)max_{a}Q(s'_3,a)$$\n",
    "\n",
    ">> where we know that \n",
    "$$ p(s_2 | s_1, a_1) = p(s_3 | s_1, a_2) = 0.7 $$\n",
    "\n",
    "$$ p(s_2 | s_1, a_2) = p(s_3 | s_1, a_1) = 0.3 $$"
   ]
  },
  {
   "cell_type": "markdown",
   "metadata": {
    "id": "04iPIQyakdC4"
   },
   "source": [
    "**b3.** How many parameters do each of these models have?"
   ]
  },
  {
   "cell_type": "markdown",
   "metadata": {
    "id": "mZBS3fqEkdC4"
   },
   "source": [
    ">**RW:** $\\alpha$ - learning rate\n",
    ">\n",
    ">**Q-Learning:** $\\alpha$ - learning rate \n",
    ">\n",
    ">**TD(0):** $\\alpha$ - learning rate\n",
    ">\n",
    ">**TD($\\lambda$):**  $\\alpha$ - learning rate and $\\lambda$ - eligibity trace\n",
    "\n",
    "Comments:\n",
    " - If we choose to use a discount factor $\\gamma$, it will be an additional parameter to fit. \n",
    " - Most models will use a choice kernel that includes an inverse temporature term $\\beta$, increasing the parameter count."
   ]
  },
  {
   "cell_type": "markdown",
   "metadata": {
    "id": "9BG6nRQdkdC4"
   },
   "source": [
    "**C :: Implement and fit the above models.** Below, we have provided a template function rl_nll() for computing the negative log-likelihood (LL) of the data and code blocks with templates computing LL given parameters and for fitting the models using Scipy's minimize(). You will refer to these templates to complete later questions."
   ]
  },
  {
   "cell_type": "code",
   "execution_count": 122,
   "metadata": {
    "id": "XZ2fCZnikdC4"
   },
   "outputs": [],
   "source": [
    "# # example of partial rl_nll() function\n",
    "\n",
    "# def rl_nll(eta, beta, lambd, state, choice1, choice2, money):\n",
    "#     \"\"\"\n",
    "#     output: LL - the negative log likelihood of the data\n",
    "#     input:\n",
    "#         eta     - learning rate\n",
    "#         beta    - softmax inverse temperature\n",
    "#         lambda  - eligibility trace decay rate (set to 0 to get TD(0) without eligibility traces)\n",
    "#         state   - state, 0 is the top level, 1 and 2 are the bottom level\n",
    "#         choice1 - the choice at the top level -- 0 or 1 (-1 for missed trials)\n",
    "#         choice2 - the choice at the bottom level -- 0 or 1 (-1 for missed trials)\n",
    "#         money   - amount won (1 or 0)\n",
    "    \n",
    "#     \"\"\"\n",
    "    \n",
    "#     n_states = 3\n",
    "#     n_actions = 2\n",
    "#     n_trials = len(choice1)\n",
    "    \n",
    "#     Q = np.zeros([n_states, n_actions]) # initialize Q values to 0\n",
    "#     LL = 0.0 # initialize log-likelihood\n",
    "    \n",
    "#     # loop through trials\n",
    "#     for t in range(n_trials):\n",
    "        \n",
    "#         # initialize eligibility trace\n",
    "#         E = np.zeros([n_states, n_actions])\n",
    "#         S = 0 # current state, first we are in the top level \n",
    "        \n",
    "#         # stop if trial was missed \n",
    "#         if choice1[t] == -1:\n",
    "#             continue\n",
    "                \n",
    "#         # first level choice likelihood (compute likelihood of choice at first state s)\n",
    "#         # note: this comment uses Matlab notation, copied from rllik.m \n",
    "#         # p(1) = exp(b(q(s, a)/sum(exp(b(q(s, all_actions))))\n",
    "#         # p(2) = 1 - p(1) \n",
    "#         # p(chosen) = p(x) either 1 or 2 - look at data & compare\n",
    "#         # LL = LL + log(p(chosen))\n",
    "#         LL += # LL is log-likelihood of choices, fill something in here \n",
    "\n",
    "#         # learning at first level \n",
    "#         E[S, choice1[t]] = 1 # eligibility trace updated\n",
    "#         PE = # prediction error, fill in something here\n",
    "        \n",
    "#         Q[S, choice1[t]] = # fill in something here to update Q values\n",
    "        \n",
    "#         # second level choice likelihood\n",
    "#         S = state[t] \n",
    "        \n",
    "#         # stop if trial was missed\n",
    "#         if choice2[t] == -1:\n",
    "#             continue\n",
    "            \n",
    "#         # update LL with second choice log likelihood\n",
    "#         LL += # fill in something here\n",
    "        \n",
    "#         # learning at second level\n",
    "        \n",
    "#         # update eligibility trace\n",
    "#         E = lambd * E # first decay all eligbility traces\n",
    "#         E[S, choice2[t]] = 1 # then update current eligilibity trace\n",
    "        \n",
    "#         PE = # fill in something here\n",
    "        \n",
    "#         # update Q values \n",
    "#         Q # fill in something here\n",
    "        \n",
    "#         # Is this model-based or model-free? Do you have to update first level again?\n",
    "#         # if you need to update first level again, do so here. \n",
    "        \n",
    "#     # we are minimizing this function, so use negative LL\n",
    "#     LL *= -1.0\n",
    "    \n",
    "#     return LL"
   ]
  },
  {
   "cell_type": "code",
   "execution_count": 123,
   "metadata": {
    "id": "2zV6hTFYkdC5"
   },
   "outputs": [],
   "source": [
    "# # example of computing log-likelihood given parameters eta, beta, and lambd \n",
    "# # note that this will not run until rl_nll is completed\n",
    "\n",
    "# # initialize parameters\n",
    "# eta = 0.5\n",
    "# beta = 0.5\n",
    "# lambd = 0.5\n",
    "# params = np.array([eta,beta,lambd])\n",
    "\n",
    "# print(\"model-free LL of given sample data:\", rl_nll(params, s, c1, c2, m, model_based=False))"
   ]
  },
  {
   "cell_type": "code",
   "execution_count": 124,
   "metadata": {
    "id": "-DpqB96FkdC5"
   },
   "outputs": [],
   "source": [
    "# # example of constrained optimization of parameters \n",
    "# # note that this will not run until rl_nll is completed\n",
    "\n",
    "# # initial condition\n",
    "# x0 = np.random.uniform(size=[3,])\n",
    "\n",
    "# # boundaries for eta, beta, and lambd respectively\n",
    "# eta_bnd = (LB, UB)\n",
    "# beta_bnd = (LB, UB)\n",
    "# lambd_bnd = (LB, UB)\n",
    "# bnds = (eta_bnd, beta_bnd, lambd_bnd)\n",
    "\n",
    "# # optimize by minimizing the negative log likelihood\n",
    "# # xo is initial condition of parameters\n",
    "# # optimization method is L-BFGS-B\n",
    "# # bounds are the lower and upper bounds\n",
    "# # args are arguments to the function we are optimizing after the first argument, which is the parameters\n",
    "# res = minimize(rl_nll, x0, method='L-BFGS-B', bounds=bnds, \n",
    "#                args=(state, choice1, choice2, money))\n",
    "\n",
    "# # print results\n",
    "# print(\"Params [eta, beta, lambda] = \",res.x) # the final setting of the parameters\n",
    "# print(\"Negative log likelihood = \", res.fun) # the final negative log-likelihood value"
   ]
  },
  {
   "cell_type": "markdown",
   "metadata": {
    "id": "gCuKYGJpkdC5"
   },
   "source": [
    "**c1.** Using the template above, modify the log-likelihood function rl_nll() so that it implements model-free and model-based learning by including the input: model_based=True or model_based=False."
   ]
  },
  {
   "cell_type": "code",
   "execution_count": 125,
   "metadata": {
    "id": "1R4aKWKNkdC5"
   },
   "outputs": [],
   "source": [
    "def rl_nll_mf(params, state, choice1, choice2, money, model_based=False):\n",
    "    \n",
    "    \"\"\"\n",
    "    output: LL - the negative log likelihood of the data\n",
    "    input:\n",
    "        eta     - learning rate\n",
    "        beta    - softmax inverse temperature\n",
    "        lambda  - eligibility trace decay rate (set to 0 to get TD(0) without eligibility traces)\n",
    "        state   - state, 0 is the top level, 1 and 2 are the bottom level\n",
    "        choice1 - the choice at the top level -- 0 or 1 (-1 for missed trials)\n",
    "        choice2 - the choice at the bottom level -- 0 or 1 (-1 for missed trials)\n",
    "        money   - amount won (1 or 0)\n",
    "    returns:\n",
    "        LL      - value of the LL of the data given the params\n",
    "    \"\"\"\n",
    "    \n",
    "    eta, beta, lambd = params\n",
    "    n_states = 3\n",
    "    n_actions = 2\n",
    "    n_trials = len(choice1)\n",
    "    \n",
    "    Q = np.zeros([n_states, n_actions]) # initialize Q values to 0\n",
    "\n",
    "    LL = 0.0 # initialize log-likelihood\n",
    "    S_0 = 0 # first state is always 0\n",
    "    \n",
    "    # loop through trials\n",
    "    for t in range(n_trials):\n",
    "        \n",
    "        # stop if trial was missed\n",
    "        if (choice2[t] == -1) or (choice1[t] == -1):\n",
    "            continue\n",
    "            \n",
    "        # initialize eligibility trace\n",
    "        E = np.zeros([n_states, n_actions])\n",
    "        S_tag = state[t] # current state, first we are in the top level \n",
    "        \n",
    "                \n",
    "        # first level choice likelihood (compute likelihood of choice at first state s)\n",
    "        # note: this comment uses Matlab notation, copied from rllik.m \n",
    "        # p(1) = exp(b(q(s, a)/sum(exp(b(q(s, all_actions))))\n",
    "        # p(2) = 1 - p(1) \n",
    "        # p(chosen) = p(x) either 1 or 2 - look at data & compare\n",
    "        # LL = LL + log(p(chosen))\n",
    "        \n",
    "        p_choice1 = softmax(beta*Q[S_0])[choice1[t]]            \n",
    "        LL += np.log(p_choice1)\n",
    "        \n",
    "        # learning at first level \n",
    "        # Q1(a_i) +=  eta * ( Q2[s_j, a_k] -  Q1(a_i) )\n",
    "\n",
    "        E[S_0, choice1[t]] = 1# eligibility trace updated\n",
    "        PE =  0 + Q[S_tag, choice2[t]] - Q[S_0, choice1[t]]  # fill in something here\n",
    "        \n",
    "        # update Q values \n",
    "        Q += eta*PE*E \n",
    "        \n",
    "        # update LL with second choice log likelihood\n",
    "        p_choice2 = softmax(beta*Q[S_tag])[choice2[t]]\n",
    "        LL += np.log(p_choice2)\n",
    "        \n",
    "        # learning at second level\n",
    "        #Q2(s_j, a_k) +=  eta * (r(s_j, a_k) - Q2(s_j, a_k))\n",
    "        # update eligibility trace\n",
    "        E = lambd * E # first decay all eligbility traces\n",
    "        E[S_tag, choice2[t]] = 1 # then update current eligilibity trace\n",
    "        \n",
    "        PE =  money[t] + 0 - Q[S_tag, choice2[t]] # fill in something here\n",
    "        \n",
    "        # update Q values \n",
    "        Q += eta*PE*E # fill in something here\n",
    "        \n",
    "        # Is this model-based or model-free? Do you have to update first level again?\n",
    "        # if you need to update first level again, do so here. \n",
    "        \n",
    "    # we are minimizing this function, so use negative LL\n",
    "    LL *= -1.0\n",
    "    \n",
    "    return LL"
   ]
  },
  {
   "cell_type": "code",
   "execution_count": 126,
   "metadata": {},
   "outputs": [
    {
     "name": "stdout",
     "output_type": "stream",
     "text": [
      "Params [eta, beta, lambda] =  [0.55650387 5.86503077 0.6622122 ]\n",
      "Negative log likelihood =  694.438224534747\n"
     ]
    }
   ],
   "source": [
    "# example of constrained optimization of parameters \n",
    "# note that this will not run until rl_nll is completed\n",
    "\n",
    "# initial condition\n",
    "x0 = np.random.uniform(size=[3,])\n",
    "x0 = norm.cdf(x0)\n",
    "x0[1]*=10\n",
    "\n",
    "# boundaries for eta, beta, and lambd respectively\n",
    "eta_bnd = (0, 1)\n",
    "beta_bnd = (0, 10)\n",
    "lambd_bnd = (0, 1)\n",
    "\n",
    "bnds = (eta_bnd, beta_bnd, lambd_bnd)\n",
    "# optimize by minimizing the negative log likelihood\n",
    "# xo is initial condition of parameters\n",
    "# optimization method is L-BFGS-B\n",
    "# bounds are the lower and upper bounds\n",
    "# args are arguments to the function we are optimizing after the first argument, which is the parameters\n",
    "res = minimize(rl_nll_mf, x0, method='L-BFGS-B',\n",
    "               args=(s, c1, c2, r))\n",
    "\n",
    "# print results\n",
    "print(\"Params [eta, beta, lambda] = \",res.x) # the final setting of the parameters\n",
    "print(\"Negative log likelihood = \", res.fun) # the final negative log-likelihood value"
   ]
  },
  {
   "cell_type": "markdown",
   "metadata": {
    "id": "kIGj7FOJkdC6"
   },
   "source": [
    "**c1a.** (Model-free). Implement TD($\\lambda$) using the $Q$-learning or State-Action-Reward-State-Action (SARSA) algorithms. These algorithms use state-action value predictions ($Q$ values) to choose actions. In state $S$, they choose an action a according to softmax $Q$ values:\n",
    "\n",
    "<img src=\"Pas.png\" width=\"500\"> \n",
    "\n",
    "Here, $β$ is called an inverse-temperature parameter that we will optimize. If you are using constrained optimization, fix $β$ to be in the range [0, 100].\n",
    "\n",
    ">**c1ai.** Update the eligibility traces. Recall that the eligibility traces are values corresponding to each state and action pair, and are set to zero at the beginning of the trial. Upon taking action $a$ and leaving state $S$ for state $S^{new}$, and receiving reward $r$ the eligibility traces $e(a│S)$ are updated for each $(S, a)$ pair:\n",
    ">\n",
    "> <img src=\"eaS.png\" width=\"300\">\n",
    ">\n",
    ">**c1aii.** All the $Q(a|S)$ are updated according to:\n",
    ">\n",
    "> <img src=\"Q.png\" width=\"250\">\n",
    ">\n",
    "> With the prediction error $δ(t)$ being: \n",
    ">\n",
    "> <img src=\"delta.png\" width=\"350\">\n",
    ">\n",
    "> The parameter $η$ is a step-size or learning-rate parameter in the range (0,1]. \n",
    ">\n",
    ">**c1aiii.** Reset the eligibility traces to 0 at the end of each round"
   ]
  },
  {
   "cell_type": "markdown",
   "metadata": {
    "id": "S_hTwQ2tkdC6"
   },
   "source": [
    ">**c1aiv.** Which of these two algorithms is considered on-policy, which is off-policy, and why?"
   ]
  },
  {
   "cell_type": "markdown",
   "metadata": {
    "id": "lLtFCYPqkdC6"
   },
   "source": [
    ">>**Answer:** SARASA is an on-policy algorithm since it estimates the value of the policy being followed (here, the tabular state, action values pairs). Q-learning is an off-policy algorithm because the new action is greedy, not using the current policy ( $\\max_{a'}(Q(a' | s'))$ )."
   ]
  },
  {
   "cell_type": "markdown",
   "metadata": {
    "id": "r-SQ0mGXkdC6"
   },
   "source": [
    "**c1b.** (Model-based). Implement your model-based algorithm."
   ]
  },
  {
   "cell_type": "code",
   "execution_count": 127,
   "metadata": {
    "id": "vKWAhk9KkdC6"
   },
   "outputs": [],
   "source": [
    "def rl_nll_mb(params, state, choice1, choice2, money, model_based=False):\n",
    "    \n",
    "    \"\"\"\n",
    "    output: LL - the negative log likelihood of the data\n",
    "    input:\n",
    "        eta     - learning rate\n",
    "        beta    - softmax inverse temperature\n",
    "        lambda  - eligibility trace decay rate (set to 0 to get TD(0) without eligibility traces)\n",
    "        state   - state, 0 is the top level, 1 and 2 are the bottom level\n",
    "        choice1 - the choice at the top level -- 0 or 1 (-1 for missed trials)\n",
    "        choice2 - the choice at the bottom level -- 0 or 1 (-1 for missed trials)\n",
    "        money   - amount won (1 or 0)\n",
    "    \"\"\"\n",
    "    \n",
    "    eta, beta, lambd = params\n",
    "    n_states = 3\n",
    "    n_actions = 2\n",
    "    n_trials = len(choice1)\n",
    "    \n",
    "    Q = np.zeros([n_states, n_actions]) # initialize Q values to 0\n",
    "    LL = 0.0 # initialize log-likelihood\n",
    "    \n",
    "    S_0 = 0 # first state is always 0\n",
    "    \n",
    "    # loop through trials\n",
    "    for t in range(n_trials):\n",
    "        \n",
    "        # stop if trial was missed\n",
    "        if (choice2[t] == -1) or (choice1[t] == -1):\n",
    "            continue\n",
    "            \n",
    "        # initialize eligibility trace\n",
    "        E = np.zeros([n_states, n_actions])\n",
    "        S_tag = state[t] # current state, first we are in the top level \n",
    "                \n",
    "        # first level choice likelihood (compute likelihood of choice at first state s)\n",
    "        # note: this comment uses Matlab notation, copied from rllik.m \n",
    "        # p(1) = exp(b(q(s, a)/sum(exp(b(q(s, all_actions))))\n",
    "        # p(2) = 1 - p(1) \n",
    "        # p(chosen) = p(x) either 1 or 2 - look at data & compare\n",
    "        # LL = LL + log(p(chosen))\n",
    "        p_choice1 = softmax(beta*Q[S_0])[choice1[t]]\n",
    "        LL += np.log(p_choice1)# LL is log-likelihood of choices, fill something in here \n",
    "        \n",
    "        # learning at first level \n",
    "        E[S_0, choice1[t]] = 1 # eligibility trace updated\n",
    "\n",
    "        \n",
    "        # update LL with second choice log likelihood\n",
    "        p_choice2 = softmax(beta*Q[S_tag])[choice2[t]]\n",
    "        LL += np.log(p_choice2)\n",
    "        \n",
    "        # learning at second level\n",
    "        \n",
    "        # update eligibility trace\n",
    "        E = lambd * E # first decay all eligbility traces\n",
    "        E[S_tag, choice2[t]] = 1 # then update current eligilibity trace\n",
    "        \n",
    "        PE =  money[t] + 0 - Q[S_tag, choice2[t]] # fill in something here\n",
    "        \n",
    "        # update Q values         \n",
    "        Q[S_tag, choice2[t]] += eta*PE*E[S_tag, choice2[t]] # fill in something here\n",
    "        \n",
    "        # Is this model-based or model-free? Do you have to update first level again?\n",
    "        # if you need to update first level again, do so here. \n",
    "        Q[S_0,0] = .7*np.max(Q[1]) + 0.3*np.max(Q[2])\n",
    "        Q[S_0,1] = .3*np.max(Q[1]) + 0.7*np.max(Q[2])\n",
    "        \n",
    "    # we are minimizing this function, so use negative LL\n",
    "    LL *= -1.0\n",
    "    \n",
    "    return LL"
   ]
  },
  {
   "cell_type": "code",
   "execution_count": 128,
   "metadata": {},
   "outputs": [
    {
     "name": "stdout",
     "output_type": "stream",
     "text": [
      "Params [eta, beta, lambda] =  [0.59797193 5.33495498 0.63514023]\n",
      "Negative log likelihood =  678.7765481210633\n"
     ]
    }
   ],
   "source": [
    "# example of constrained optimization of parameters \n",
    "# note that this will not run until rl_nll is completed\n",
    "\n",
    "# initial condition\n",
    "x0 = np.random.uniform(size=[3,])\n",
    "x0 = norm.cdf(x0)\n",
    "x0[1]*=10\n",
    "\n",
    "# boundaries for eta, beta, and lambd respectively\n",
    "eta_bnd = (0, 1)\n",
    "beta_bnd = (0, 10)\n",
    "lambd_bnd = (0, 1)\n",
    "\n",
    "bnds = (eta_bnd, beta_bnd, lambd_bnd)\n",
    "# optimize by minimizing the negative log likelihood\n",
    "# xo is initial condition of parameters\n",
    "# optimization method is L-BFGS-B\n",
    "# bounds are the lower and upper bounds\n",
    "# args are arguments to the function we are optimizing after the first argument, which is the parameters\n",
    "res = minimize(rl_nll_mb, x0, method='L-BFGS-B',\n",
    "               args=(s, c1, c2, r))\n",
    "\n",
    "# print results\n",
    "print(\"Params [eta, beta, lambda] = \", res.x) # the final setting of the parameters\n",
    "print(\"Negative log likelihood = \", res.fun) # the final negative log-likelihood value"
   ]
  },
  {
   "cell_type": "markdown",
   "metadata": {
    "id": "K2A0tg56kdC7"
   },
   "source": [
    "**c2.** Write a function that will find the maximum-likelihood settings of the parameters of the models. Modify the example optimization code above to fit the model free and model based models. The example code uses SciPy’s minimize optimizer, and is commented in the template above."
   ]
  },
  {
   "cell_type": "code",
   "execution_count": 129,
   "metadata": {
    "id": "as1aPM_LkdC7"
   },
   "outputs": [],
   "source": [
    "from scipy.stats import norm\n",
    "\n",
    "def fit(model, seed):\n",
    "    \n",
    "    \n",
    "    np.random.seed(seed)\n",
    "    x0 = np.random.normal(0,1, size=[3,])\n",
    "    \n",
    "    x0 = norm.cdf(x0)\n",
    "    x0[1]*=10\n",
    "\n",
    "\n",
    "    # optimize by minimizing the negative log likelihood\n",
    "    # x0 is initial condition of parameters\n",
    "    # optimization method is L-BFGS-B\n",
    "    # bounds are the lower and upper bounds\n",
    "    # args are arguments to the function we are optimizing after the first argument, which is the parameters\n",
    "    res = minimize(model, x0, method='L-BFGS-B',\n",
    "                   args=(s, c1, c2, r))\n",
    "    \n",
    "    return res\n",
    "\n",
    "    "
   ]
  },
  {
   "cell_type": "markdown",
   "metadata": {
    "id": "OXRs0AlWkdC7"
   },
   "source": [
    "**c3.** Use the optimization function you edited to fit the two models above to your data and that of your classmates (provided by the AI). Load your data and then run the fitting routine 5 times, starting from 5 random initial values for the parameters to be fit. After running all 5 times, choose the best fit (minimum negative log likelihood, or maximum log likelihood)."
   ]
  },
  {
   "cell_type": "code",
   "execution_count": 130,
   "metadata": {},
   "outputs": [],
   "source": [
    "n_trials = len(c1)\n"
   ]
  },
  {
   "cell_type": "code",
   "execution_count": 131,
   "metadata": {
    "id": "VQsMICdhkdC7"
   },
   "outputs": [],
   "source": [
    "fit_df = pd.DataFrame([], columns=('run','model','ll','eta','beta','lambda','BIC'))\n",
    "\n",
    "#run fitting routine 5 times:\n",
    "get_bic = lambda n, k, ll:  np.log(n)*k + 2*ll\n",
    "\n",
    "\n",
    "for i in range(10):\n",
    "\n",
    "    res_mb = fit(rl_nll_mb, i)\n",
    "    res_mf = fit(rl_nll_mf, i)\n",
    "\n",
    "    fit_df = fit_df.append(pd.Series([i,'mf',res_mf.fun, \n",
    "                               res_mf.x[0], res_mf.x[1], res_mf.x[2],\n",
    "                                 get_bic(n_trials ,3 ,res_mf.fun)],\n",
    "                            index=fit_df.columns),\n",
    "                  ignore_index=True)\n",
    "    \n",
    "    fit_df = fit_df.append(pd.Series([i,'mb',res_mb.fun, \n",
    "                               res_mb.x[0], res_mb.x[1], res_mb.x[2],\n",
    "                                 get_bic(n_trials ,3 ,res_mb.fun)],\n",
    "                            index=fit_df.columns),\n",
    "                  ignore_index=True)\n",
    "    \n"
   ]
  },
  {
   "cell_type": "code",
   "execution_count": 132,
   "metadata": {},
   "outputs": [
    {
     "data": {
      "text/html": [
       "<div>\n",
       "<style scoped>\n",
       "    .dataframe tbody tr th:only-of-type {\n",
       "        vertical-align: middle;\n",
       "    }\n",
       "\n",
       "    .dataframe tbody tr th {\n",
       "        vertical-align: top;\n",
       "    }\n",
       "\n",
       "    .dataframe thead th {\n",
       "        text-align: right;\n",
       "    }\n",
       "</style>\n",
       "<table border=\"1\" class=\"dataframe\">\n",
       "  <thead>\n",
       "    <tr style=\"text-align: right;\">\n",
       "      <th></th>\n",
       "      <th>run</th>\n",
       "      <th>model</th>\n",
       "      <th>ll</th>\n",
       "      <th>eta</th>\n",
       "      <th>beta</th>\n",
       "      <th>lambda</th>\n",
       "      <th>BIC</th>\n",
       "    </tr>\n",
       "  </thead>\n",
       "  <tbody>\n",
       "    <tr>\n",
       "      <th>0</th>\n",
       "      <td>0</td>\n",
       "      <td>mf</td>\n",
       "      <td>583.044479</td>\n",
       "      <td>0.300105</td>\n",
       "      <td>3.820013</td>\n",
       "      <td>0.600818</td>\n",
       "      <td>1184.732783</td>\n",
       "    </tr>\n",
       "    <tr>\n",
       "      <th>1</th>\n",
       "      <td>0</td>\n",
       "      <td>mb</td>\n",
       "      <td>603.087465</td>\n",
       "      <td>0.321372</td>\n",
       "      <td>3.612539</td>\n",
       "      <td>0.836145</td>\n",
       "      <td>1224.818755</td>\n",
       "    </tr>\n",
       "    <tr>\n",
       "      <th>2</th>\n",
       "      <td>1</td>\n",
       "      <td>mf</td>\n",
       "      <td>583.044479</td>\n",
       "      <td>0.300105</td>\n",
       "      <td>3.820027</td>\n",
       "      <td>0.600814</td>\n",
       "      <td>1184.732783</td>\n",
       "    </tr>\n",
       "    <tr>\n",
       "      <th>3</th>\n",
       "      <td>1</td>\n",
       "      <td>mb</td>\n",
       "      <td>603.087465</td>\n",
       "      <td>0.321371</td>\n",
       "      <td>3.612563</td>\n",
       "      <td>0.298690</td>\n",
       "      <td>1224.818755</td>\n",
       "    </tr>\n",
       "    <tr>\n",
       "      <th>4</th>\n",
       "      <td>2</td>\n",
       "      <td>mf</td>\n",
       "      <td>622.372790</td>\n",
       "      <td>0.338428</td>\n",
       "      <td>4.775646</td>\n",
       "      <td>0.016332</td>\n",
       "      <td>1263.389403</td>\n",
       "    </tr>\n",
       "  </tbody>\n",
       "</table>\n",
       "</div>"
      ],
      "text/plain": [
       "  run model          ll       eta      beta    lambda          BIC\n",
       "0   0    mf  583.044479  0.300105  3.820013  0.600818  1184.732783\n",
       "1   0    mb  603.087465  0.321372  3.612539  0.836145  1224.818755\n",
       "2   1    mf  583.044479  0.300105  3.820027  0.600814  1184.732783\n",
       "3   1    mb  603.087465  0.321371  3.612563  0.298690  1224.818755\n",
       "4   2    mf  622.372790  0.338428  4.775646  0.016332  1263.389403"
      ]
     },
     "execution_count": 132,
     "metadata": {},
     "output_type": "execute_result"
    }
   ],
   "source": [
    "fit_df.head()"
   ]
  },
  {
   "cell_type": "code",
   "execution_count": 133,
   "metadata": {},
   "outputs": [],
   "source": [
    "custom_params = {\"axes.spines.right\": False, \"axes.spines.top\": False}\n",
    "sns.set_theme(style=\"ticks\", rc=custom_params)"
   ]
  },
  {
   "cell_type": "code",
   "execution_count": 134,
   "metadata": {},
   "outputs": [
    {
     "data": {
      "image/png": "[encoded data removed]",
      "text/plain": [
       "<Figure size 432x288 with 2 Axes>"
      ]
     },
     "metadata": {},
     "output_type": "display_data"
    }
   ],
   "source": [
    "plt.subplot(1,2,1)\n",
    "sns.violinplot(x=\"model\", y=\"ll\", data=fit_df, whis=np.inf)\n",
    "sns.swarmplot(x=\"model\", y=\"ll\", data=fit_df, color='white')\n",
    "\n",
    "plt.subplot(1,2,2)\n",
    "sns.violinplot(x=\"model\", y=\"BIC\", data=fit_df, whis=np.inf)\n",
    "sns.swarmplot(x=\"model\", y=\"BIC\", data=fit_df, color='white')\n",
    "\n",
    "plt.tight_layout()\n",
    "plt.show()"
   ]
  },
  {
   "cell_type": "code",
   "execution_count": 135,
   "metadata": {
    "id": "qu7AElnXkdC7"
   },
   "outputs": [],
   "source": [
    "#deterimine best fit:\n",
    "#included above."
   ]
  },
  {
   "cell_type": "markdown",
   "metadata": {
    "id": "6d46UYyMkdC7"
   },
   "source": [
    "**c4.** Use Bayesian Information Criterion (BIC) to compare which is the best fitting model for each subject. Compute the BIC using the formula: \n",
    "\n",
    "BIC = -2 * log-likelihood + ln(trials) *  # parameters\n",
    "\n",
    "where $ln()$ is the natural logarithm. BIC is defined here on the deviance scale, which means that lower values are better. Which model fit each subject’s behavior best?"
   ]
  },
  {
   "cell_type": "code",
   "execution_count": 136,
   "metadata": {},
   "outputs": [
    {
     "data": {
      "text/plain": [
       "<AxesSubplot:xlabel='run', ylabel='BIC'>"
      ]
     },
     "execution_count": 136,
     "metadata": {},
     "output_type": "execute_result"
    },
    {
     "data": {
      "image/png": "[encoded data removed]",
      "text/plain": [
       "<Figure size 432x288 with 1 Axes>"
      ]
     },
     "metadata": {},
     "output_type": "display_data"
    }
   ],
   "source": [
    "sns.barplot(x=\"run\", y='BIC', hue='model',data=fit_df)"
   ]
  },
  {
   "cell_type": "code",
   "execution_count": 137,
   "metadata": {},
   "outputs": [
    {
     "name": "stdout",
     "output_type": "stream",
     "text": [
      "Model free fits better in 60% of runs\n",
      "Model base fits better in 40% of runs\n"
     ]
    }
   ],
   "source": [
    "mf_gt_mb = np.array(fit_df[fit_df.model=='mf']['BIC']) > np.array(fit_df[fit_df.model=='mb']['BIC'])\n",
    "\n",
    "print('Model free fits better in {}% of runs'.format(np.sum(mf_gt_mb)*10))\n",
    "print('Model base fits better in {}% of runs'.format((10-np.sum(mf_gt_mb))*10))\n",
    "\n"
   ]
  },
  {
   "cell_type": "markdown",
   "metadata": {
    "id": "KBsjN2VYkdC7"
   },
   "source": [
    ">**Answer:** None of these models strictly fits better. The Model-free is performing marginally better."
   ]
  },
  {
   "cell_type": "markdown",
   "metadata": {
    "id": "HycgSR0PkdC8"
   },
   "source": [
    "### PART II – Cliff walking\n",
    "\n",
    "Consider the grid world shown below. This is a standard undiscounted, episodic task, with start and goal states, and the usual actions causing movement up, down, right, and left. Reward is -1 on all transitions except those into the region marked “The Cliff.” Stepping into this region incurs a reward of -100 and sends the agent instantly back to the start.\n",
    "\n",
    "<img src=\"cliff.png\" width=\"500\">  \n",
    "\n",
    "Two paths are marked: an optimal path which incurs the least costs on the way to the goal, and a roundabout (but safe) path that walks farthest from the cliff. \n",
    "\n",
    "**1.** Which algorithm, SARSA or $Q$-learning, would learn either path, and why? "
   ]
  },
  {
   "cell_type": "markdown",
   "metadata": {
    "id": "Isqhzmp7kdC8"
   },
   "source": [
    ">**Answer:** The main difference is that Q learning is an off-policy method, whereas SARSA is an on-policy method. \n",
    "\n",
    "> Off policy methods are more 'optimistic' in the sense that they use a greedy (optimal) next step - i.e., Q learning will result in the optimal (yet more risky path). \n",
    "\n",
    "> On policy methods have a more conservative value estimation since it considers the actual outcomes (one of which is the worst outcome of falling off the cliff). i.e., SARSA will learn the safer path.\n"
   ]
  },
  {
   "cell_type": "markdown",
   "metadata": {
    "id": "M1RUVdjXkdC8"
   },
   "source": [
    "**2.** When behaving according to softmax of the learned $Q$ values, which path would an agent prefer? (think about the parameter $β$ and the stability of the environment) "
   ]
  },
  {
   "cell_type": "markdown",
   "metadata": {
    "id": "Ie4eAgvFkdC8"
   },
   "source": [
    ">**Answer:** \n",
    "\n",
    "\n",
    "\n",
    "> The inverse temperature parameter, $\\beta$, reflects the sensitivity of the choice kernel to the difference in values. Another way to look at it is how much stochasticity there is in the choice. Low $\\beta$, let us say 0, will collapse the value estimate to a completely random choice (see below, in a two actions example, a $\\beta=0$ results in both values =.5. On the other end, a high beta will separate the value into more and more extreme differences, resulting in a deterministic choice of the highest value option. A high $\\beta$ agent will prefer the optimal path since there is a low probability of choosing a suboptimal action. A low $\\beta$  agent will prefer the safer path since it may take some random actions.\n",
    "\n",
    "> The environment stability is reflected in the transition probabilities - a stable environment will deterministically transition between states where a dynamic environment will include stochasticity. Similar to above, randomness calls for safety - thus, an agent would prefer the optimal path in a stable environment and the safer path in a stochastic one.\n",
    "\n"
   ]
  },
  {
   "cell_type": "code",
   "execution_count": 138,
   "metadata": {},
   "outputs": [
    {
     "data": {
      "image/png": "[encoded data removed]",
      "text/plain": [
       "<Figure size 432x288 with 1 Axes>"
      ]
     },
     "metadata": {},
     "output_type": "display_data"
    }
   ],
   "source": [
    "probs = np.array([.3,.7])\n",
    "\n",
    "plt.plot([0,.3, 3, 10],\n",
    "         [softmax(0*probs),\n",
    "         softmax(.3*probs),\n",
    "          softmax(3*probs),\n",
    "          softmax(10*probs)])\n",
    "\n",
    "plt.xlabel(r'$\\beta$')\n",
    "plt.ylabel('probabilities')\n",
    "\n",
    "plt.show()"
   ]
  },
  {
   "cell_type": "markdown",
   "metadata": {
    "id": "g8XaJ1bmkdC8"
   },
   "source": [
    "**3.** Can you suggest why on-policy methods might be superior for learning real-world motor behavior?"
   ]
  },
  {
   "cell_type": "markdown",
   "metadata": {
    "id": "MAPQDzUvkdC8"
   },
   "source": [
    ">**Answer:** On-policy methods are helpful for exploration, i.e., taking sub-optimal decisions allowing for learning new values in the environment. Motor skills involve flexible operations rather than hard-coded optimality. That also means it is better for responding to changes in the environment or unexpected obstacles - which makes sense in a motor task.\n"
   ]
  },
  {
   "cell_type": "code",
   "execution_count": null,
   "metadata": {},
   "outputs": [],
   "source": []
  }
 ],
 "metadata": {
  "colab": {
   "collapsed_sections": [],
   "name": "LASTNAME_pset3.ipynb",
   "provenance": []
  },
  "kernelspec": {
   "display_name": "Python 3",
   "language": "python",
   "name": "python3"
  },
  "language_info": {
   "codemirror_mode": {
    "name": "ipython",
    "version": 3
   },
   "file_extension": ".py",
   "mimetype": "text/x-python",
   "name": "python",
   "nbconvert_exporter": "python",
   "pygments_lexer": "ipython3",
   "version": "3.8.5"
  }
 },
 "nbformat": 4,
 "nbformat_minor": 1
}
